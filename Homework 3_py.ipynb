{
 "cells": [
  {
   "cell_type": "code",
   "execution_count": 1,
   "metadata": {},
   "outputs": [],
   "source": [
    "import numpy as np\n",
    "import pandas as pd\n",
    "import matplotlib.pyplot as plt\n",
    "from sklearn.linear_model import LogisticRegression\n",
    "from sklearn.linear_model import LogisticRegressionCV\n",
    "from sklearn.model_selection import train_test_split\n",
    "from sklearn.metrics import roc_curve\n",
    "from pygam import LogisticGAM"
   ]
  },
  {
   "cell_type": "markdown",
   "metadata": {},
   "source": [
    "### Question 4"
   ]
  },
  {
   "cell_type": "code",
   "execution_count": 2,
   "metadata": {},
   "outputs": [],
   "source": [
    "marketing_data = pd.read_csv(\"marketing.csv\")"
   ]
  },
  {
   "cell_type": "code",
   "execution_count": 3,
   "metadata": {},
   "outputs": [],
   "source": [
    "marketing_data_encoded = pd.get_dummies(columns=[\"job\", \"marital\", \"education\",\"default\", \"housing\",\"loan\"],\n",
    "                                        data=marketing_data)\n",
    "marketing_data_encoded['y'] = np.where(marketing_data_encoded['y'] == 'yes',1,0)"
   ]
  },
  {
   "cell_type": "code",
   "execution_count": 4,
   "metadata": {},
   "outputs": [],
   "source": [
    "X = marketing_data_encoded.drop(axis=1,columns=['y'])\n",
    "y = marketing_data_encoded[['y']]\n",
    "X_train, X_test, y_train, y_test = train_test_split(X, y, test_size=0.33, random_state=1)"
   ]
  },
  {
   "cell_type": "markdown",
   "metadata": {},
   "source": [
    "#### Part (a)"
   ]
  },
  {
   "cell_type": "code",
   "execution_count": 5,
   "metadata": {},
   "outputs": [
    {
     "name": "stdout",
     "output_type": "stream",
     "text": [
      "Base rate of success in the training data is 0.118\n"
     ]
    }
   ],
   "source": [
    "base_rate = sum(y_train.y==1)/len(y_train)\n",
    "print(\"Base rate of success in the training data is\", round(base_rate,3))"
   ]
  },
  {
   "cell_type": "markdown",
   "metadata": {},
   "source": [
    "#### Part (b)"
   ]
  },
  {
   "cell_type": "code",
   "execution_count": 112,
   "metadata": {
    "scrolled": true
   },
   "outputs": [
    {
     "data": {
      "text/plain": [
       "Index(['age', 'balance', 'job_admin.', 'job_blue-collar', 'job_entrepreneur',\n",
       "       'job_housemaid', 'job_management', 'job_retired', 'job_self-employed',\n",
       "       'job_services', 'job_student', 'job_technician', 'job_unemployed',\n",
       "       'job_unknown', 'marital_divorced', 'marital_married', 'marital_single',\n",
       "       'education_primary', 'education_secondary', 'education_tertiary',\n",
       "       'education_unknown', 'default_no', 'default_yes', 'housing_no',\n",
       "       'housing_yes', 'loan_no', 'loan_yes'],\n",
       "      dtype='object')"
      ]
     },
     "execution_count": 112,
     "metadata": {},
     "output_type": "execute_result"
    }
   ],
   "source": [
    "X_train.columns"
   ]
  },
  {
   "cell_type": "code",
   "execution_count": 6,
   "metadata": {
    "scrolled": true
   },
   "outputs": [
    {
     "name": "stderr",
     "output_type": "stream",
     "text": [
      "C:\\Users\\shuva\\Anaconda3\\lib\\site-packages\\sklearn\\utils\\validation.py:578: DataConversionWarning: A column-vector y was passed when a 1d array was expected. Please change the shape of y to (n_samples, ), for example using ravel().\n",
      "  y = column_or_1d(y, warn=True)\n"
     ]
    }
   ],
   "source": [
    "lmfit = LogisticRegression(C=100000).fit(X_train, y_train)\n",
    "\n",
    "yhat_lm = lmfit.predict(X_test)"
   ]
  },
  {
   "cell_type": "code",
   "execution_count": 7,
   "metadata": {},
   "outputs": [
    {
     "name": "stdout",
     "output_type": "stream",
     "text": [
      "Misclassification rate of logistic regression is 0.115436\n"
     ]
    }
   ],
   "source": [
    "miss_rate = np.mean(np.array(y_test)!=yhat_lm)\n",
    "print(\"Misclassification rate of logistic regression is\", round(miss_rate,6))\n"
   ]
  },
  {
   "cell_type": "markdown",
   "metadata": {},
   "source": [
    "#### Part (c)"
   ]
  },
  {
   "cell_type": "code",
   "execution_count": 146,
   "metadata": {
    "scrolled": false
   },
   "outputs": [
    {
     "name": "stdout",
     "output_type": "stream",
     "text": [
      "Misclassification rate of classifier which guesses no for all observation is  0.115282\n"
     ]
    }
   ],
   "source": [
    "silly_classifier_miss_rate = sum(y_test.y==1)/len(y_test)\n",
    "print(\"Misclassification rate of classifier which guesses no for all observation is \", round(silly_classifier_miss_rate,6))"
   ]
  },
  {
   "cell_type": "markdown",
   "metadata": {},
   "source": [
    "The misclassification rate of the logistic classifier is more than a silly classifier which guess no all the time. This shows that the logistic regression did poorly on the 0-1 loss as it is comparable to a no-model classifier in terms of 0-1 loss."
   ]
  },
  {
   "cell_type": "markdown",
   "metadata": {},
   "source": [
    "#### Part (d)"
   ]
  },
  {
   "cell_type": "code",
   "execution_count": 189,
   "metadata": {},
   "outputs": [],
   "source": [
    "test_log_prob = lmfit.predict_log_proba(X_test)[:,1]\n",
    "#Partitions the array into two sub-arrays like quick sort. Left of the index are all less than the index\n",
    "#Picks 1000 highest log-probability points\n",
    "high_prob_indices = np.argpartition(test_log_prob, len(test_log_prob)-1000)[-1000:]"
   ]
  },
  {
   "cell_type": "code",
   "execution_count": 198,
   "metadata": {
    "scrolled": true
   },
   "outputs": [
    {
     "name": "stdout",
     "output_type": "stream",
     "text": [
      "Among this set of 1000 clients, success fraction is 0.279\n",
      "Random pick of 1000 clients from the set would have a success fraction of  0.115\n"
     ]
    }
   ],
   "source": [
    "success_count_frac = sum(y_test.iloc[high_prob_indices].y == 1)/1000\n",
    "print(\"Among this set of 1000 clients, success fraction is\", round(success_count_frac,3))\n",
    "print(\"Random pick of 1000 clients from the set would have a success fraction of \", round(sum(y_test.y==1)/len(y_test),3))"
   ]
  },
  {
   "cell_type": "code",
   "execution_count": 12,
   "metadata": {},
   "outputs": [],
   "source": [
    "prob = lmfit.predict_proba(X_test)[:,1]\n",
    "lmfit_score = pd.DataFrame(columns=[\"score\"],data=prob)\n",
    "lmfit_score.to_csv(\"lmfit.csv\")"
   ]
  },
  {
   "cell_type": "markdown",
   "metadata": {},
   "source": [
    "The set of 1000 clients with highest log probability of success has a success rate of 27.9% compared to 11.5% for a random set of 1000 clients. This shows the efficiency of the enriched set."
   ]
  },
  {
   "cell_type": "markdown",
   "metadata": {},
   "source": [
    "#### Part (e)"
   ]
  },
  {
   "cell_type": "code",
   "execution_count": 205,
   "metadata": {},
   "outputs": [],
   "source": [
    "fpr,tpr,_ = roc_curve(y_test.y,lmfit.predict_proba(X_test)[:,1])"
   ]
  },
  {
   "cell_type": "code",
   "execution_count": 210,
   "metadata": {},
   "outputs": [
    {
     "data": {
      "image/png": "[encoded data removed]",
      "text/plain": [
       "<Figure size 432x288 with 1 Axes>"
      ]
     },
     "metadata": {},
     "output_type": "display_data"
    }
   ],
   "source": [
    "plt.plot(fpr,tpr)\n",
    "plt.xlabel(\"FPR (1-specificity)\")\n",
    "plt.ylabel(\"TPR (sensitivity)\")\n",
    "plt.title(\"ROC Curve\")\n",
    "plt.plot(np.linspace(0,1), np.linspace(0,1))\n",
    "plt.show()"
   ]
  },
  {
   "cell_type": "markdown",
   "metadata": {},
   "source": [
    "We can see from above plot that the ROC curve is above the $y=x$ line thus the logistic classifier is better than random guessing for this data set."
   ]
  },
  {
   "cell_type": "markdown",
   "metadata": {},
   "source": [
    "### Question 5"
   ]
  },
  {
   "cell_type": "markdown",
   "metadata": {},
   "source": [
    "#### Part (a)"
   ]
  },
  {
   "cell_type": "code",
   "execution_count": 217,
   "metadata": {
    "scrolled": false
   },
   "outputs": [
    {
     "name": "stderr",
     "output_type": "stream",
     "text": [
      "100% (30 of 30) |########################| Elapsed Time: 0:04:40 Time:  0:04:40\n"
     ]
    }
   ],
   "source": [
    "GAMfit = LogisticGAM().gridsearch(np.array(X_train), np.array(y_train), lam = np.logspace(-2, 3, 30))"
   ]
  },
  {
   "cell_type": "code",
   "execution_count": 220,
   "metadata": {
    "scrolled": true
   },
   "outputs": [
    {
     "data": {
      "image/png": "[encoded data removed]",
      "text/plain": [
       "<Figure size 432x288 with 2 Axes>"
      ]
     },
     "metadata": {},
     "output_type": "display_data"
    }
   ],
   "source": [
    "fig, axs = plt.subplots(1, 2)\n",
    "titles = ['age', 'balance']\n",
    "\n",
    "for i, ax in enumerate(axs):\n",
    "    Xfake = GAMfit.generate_X_grid(i)\n",
    "    pdep, confi = GAMfit.partial_dependence(term = i, X= Xfake, width=.95)\n",
    "\n",
    "    ax.plot(Xfake[:, i], pdep)\n",
    "    #ax.plot(XX[:, i], confi[0], c='r', ls='--')\n",
    "    ax.set_title(titles[i])\n",
    "\n",
    "plt.show()"
   ]
  },
  {
   "cell_type": "markdown",
   "metadata": {},
   "source": [
    "Above shows the partial dependency plot for the continuous variables age, balance and we can observe significant non-linearities in between the response and the predictors that cannot be captured by the linear logistic regression."
   ]
  },
  {
   "cell_type": "markdown",
   "metadata": {},
   "source": [
    "#### Part (b)"
   ]
  },
  {
   "cell_type": "code",
   "execution_count": 223,
   "metadata": {
    "scrolled": true
   },
   "outputs": [
    {
     "name": "stdout",
     "output_type": "stream",
     "text": [
      "Misclassification rate for Logistic GAM fit is 0.121\n"
     ]
    }
   ],
   "source": [
    "yhat_gam = GAMfit.predict(np.array(X_test))\n",
    "print(\"Misclassification rate for Logistic GAM fit is\", round(np.mean(yhat_gam!=np.array(y_test)),3))"
   ]
  },
  {
   "cell_type": "code",
   "execution_count": 231,
   "metadata": {},
   "outputs": [],
   "source": [
    "gam_test_log_prob = GAMfit.predict_proba(np.array(X_test))\n",
    "#Partitions the array into two sub-arrays like quick sort. Left of the index are all less than the index\n",
    "#Picks 1000 highest log-probability points\n",
    "high_prob_indices = np.argpartition(gam_test_log_prob, len(gam_test_log_prob)-1000)[-1000:]"
   ]
  },
  {
   "cell_type": "code",
   "execution_count": 233,
   "metadata": {},
   "outputs": [
    {
     "name": "stdout",
     "output_type": "stream",
     "text": [
      "Among this set of 1000 clients, success fraction is 0.346\n",
      "Random pick of 1000 clients from the set would have a success fraction of  0.115\n"
     ]
    }
   ],
   "source": [
    "success_count_frac = sum(y_test.iloc[high_prob_indices].y == 1)/1000\n",
    "print(\"Among this set of 1000 clients, success fraction is\", round(success_count_frac,3))\n",
    "print(\"Random pick of 1000 clients from the set would have a success fraction of \", round(sum(y_test.y==1)/len(y_test),3))"
   ]
  },
  {
   "cell_type": "markdown",
   "metadata": {},
   "source": [
    "Although the logistic GAM classifier has higher misclassification rate than the logistic regression classifier, we can see that it provides better success fraction for the top 1000 clients with highest probability of success. Thus we expect the enriched set to have better ROC curve characteristics than the logistic regression curve."
   ]
  },
  {
   "cell_type": "markdown",
   "metadata": {},
   "source": [
    "#### Part (c)\n"
   ]
  },
  {
   "cell_type": "code",
   "execution_count": 234,
   "metadata": {},
   "outputs": [],
   "source": [
    "fpr_gam,tpr_gam,_ = roc_curve(y_test.y,GAMfit.predict_proba(np.array(X_test)))"
   ]
  },
  {
   "cell_type": "code",
   "execution_count": 243,
   "metadata": {
    "scrolled": true
   },
   "outputs": [
    {
     "data": {
      "image/png": "[encoded data removed]",
      "text/plain": [
       "<Figure size 432x288 with 1 Axes>"
      ]
     },
     "metadata": {},
     "output_type": "display_data"
    }
   ],
   "source": [
    "plt.plot(fpr,tpr)\n",
    "plt.xlabel(\"FPR (1-specificity)\")\n",
    "plt.ylabel(\"TPR (sensitivity)\")\n",
    "plt.title(\"ROC Curve\")\n",
    "plt.plot(fpr_gam,tpr_gam)\n",
    "plt.plot(np.linspace(0,1), np.linspace(0,1))\n",
    "plt.gca().legend(('LM','GAM',\"Diagonal\"))\n",
    "plt.show()"
   ]
  },
  {
   "cell_type": "markdown",
   "metadata": {},
   "source": [
    "We can see from the above plot that the ROC curve of Logistic GAM based classifier is slightly above the ROC curve of Logistic regression based classifier, which is also supported by better success fraction among the top 1000 set shows that the logistic GAM is better able to capture the non-linearities induced by the age and balance continuous variables."
   ]
  }
 ],
 "metadata": {
  "kernelspec": {
   "display_name": "Python 3",
   "language": "python",
   "name": "python3"
  },
  "language_info": {
   "codemirror_mode": {
    "name": "ipython",
    "version": 3
   },
   "file_extension": ".py",
   "mimetype": "text/x-python",
   "name": "python",
   "nbconvert_exporter": "python",
   "pygments_lexer": "ipython3",
   "version": "3.6.5"
  }
 },
 "nbformat": 4,
 "nbformat_minor": 2
}
