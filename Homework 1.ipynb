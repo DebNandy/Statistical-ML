{
 "cells": [
  {
   "cell_type": "markdown",
   "metadata": {},
   "source": [
    "# Homework 1"
   ]
  },
  {
   "cell_type": "code",
   "execution_count": 14,
   "metadata": {},
   "outputs": [],
   "source": [
    "import numpy as np\n",
    "import matplotlib.pyplot as plt\n",
    "from scipy.stats import norm\n",
    "import statsmodels.api as sm"
   ]
  },
  {
   "cell_type": "markdown",
   "metadata": {},
   "source": [
    "### Question 1"
   ]
  },
  {
   "cell_type": "code",
   "execution_count": 2,
   "metadata": {},
   "outputs": [
    {
     "name": "stdout",
     "output_type": "stream",
     "text": [
      "Mean squared prediction error for estimator I : 0.9015405317633097\n",
      "Mean squared prediction error for estimator II : 0.9815839014058954\n"
     ]
    }
   ],
   "source": [
    "n=1000\n",
    "samples = np.random.exponential(scale=1,size=n)\n",
    "estimator_I = 1\n",
    "estimator_II = np.log(2)\n",
    "\n",
    "MSE_I = np.sum((samples-estimator_I)**2)/n\n",
    "MSE_II = np.sum((samples-estimator_II)**2)/n\n",
    "print(\"Mean squared prediction error for estimator I :\", MSE_I)\n",
    "print(\"Mean squared prediction error for estimator II :\", MSE_II)"
   ]
  },
  {
   "cell_type": "markdown",
   "metadata": {},
   "source": [
    "(a) Estimator-I does better for this error measure (MSE)"
   ]
  },
  {
   "cell_type": "code",
   "execution_count": 3,
   "metadata": {
    "scrolled": true
   },
   "outputs": [
    {
     "name": "stdout",
     "output_type": "stream",
     "text": [
      "Mean absolute prediction error for estimator I : 0.7093198141691814\n",
      "Mean absolute prediction error for estimator II : 0.6728756349031318\n"
     ]
    }
   ],
   "source": [
    "MAE_I = np.sum(np.absolute(samples-estimator_I))/n\n",
    "MAE_II = np.sum(np.absolute(samples-estimator_II))/n\n",
    "print(\"Mean absolute prediction error for estimator I :\", MAE_I)\n",
    "print(\"Mean absolute prediction error for estimator II :\", MAE_II)"
   ]
  },
  {
   "cell_type": "markdown",
   "metadata": {},
   "source": [
    "(b) Estimator-II does better for this error measure (MAE)"
   ]
  },
  {
   "cell_type": "markdown",
   "metadata": {},
   "source": [
    "### Question 2"
   ]
  },
  {
   "cell_type": "code",
   "execution_count": 4,
   "metadata": {},
   "outputs": [
    {
     "data": {
      "text/plain": [
       "[<matplotlib.lines.Line2D at 0x18403d6a390>]"
      ]
     },
     "execution_count": 4,
     "metadata": {},
     "output_type": "execute_result"
    },
    {
     "data": {
      "image/png": "[encoded data removed]",
      "text/plain": [
       "<Figure size 432x288 with 1 Axes>"
      ]
     },
     "metadata": {},
     "output_type": "display_data"
    }
   ],
   "source": [
    "def asymm_loss(z):\n",
    "    a = 1.1\n",
    "    b = 2\n",
    "    loss = b*(np.exp(a*z) - a*z -1)\n",
    "    return loss\n",
    "plt.plot(np.linspace(-2,2,1000),asymm_loss(np.linspace(-2,2,1000)))"
   ]
  },
  {
   "cell_type": "markdown",
   "metadata": {},
   "source": [
    "(a) The loss function is very steep for positive values compared to negative values. It assigns higher amount of loss to positive errors than negative error. Such a loss function can be used when a false positive is more punitive than a false negative. \n",
    "\n",
    "For example in risk management, having excess capital to mitigate liquidity risk exposure is acceptable, but inadequate capital can lead to possible losses in the market making. Thus, if a machine learning approach is taken in estimating the capital required to mitigate a certain risk, then to optimize the regression function such a loss function can be used which assigns more loss to the cases when the model underestimates the capital required and assigns moderate amount of loss if it overestimates."
   ]
  },
  {
   "cell_type": "markdown",
   "metadata": {},
   "source": [
    "(b) Provided loss function is $\\mathcal{L}(Y,f(X)) = b(e^{a(Y-f(X))}-a(Y-f(X))-1)$. \n",
    "\n",
    "We need choose $\\hat{f}(X)$ which maximizes the expected value of the loss. Thus, \n",
    "\n",
    "\\begin{equation}\n",
    "\\hat{f}(X) = \\mathrm{argmax}_f (\\mathbf{E}[\\mathcal{L} (Y,f(X))])\n",
    "\\end{equation}\n",
    "\n",
    "Now, \n",
    "\\begin{equation}\n",
    "\\mathbf{E}[\\mathcal{L} (Y,f(X))] = \\mathbf{E}[b(e^{a(Y-f(X))}-a(Y-f(X))-1)] = \n",
    "\\mathbf{E}[\\mathbf{E}[b(e^{a(Y-f(X))}-a(Y-f(X))-1) | X]] \\\\\n",
    "= \\mathbf{E}[be^{-af(X)}\\mathbf{E}[e^{aY}|X] - ab(\\mathbf{E}[Y|X]-f(X))-b]\\\\\n",
    "\\frac{\\partial \\mathcal{L}(Y,f(X))}{\\partial f(X)} = \\mathbf{E}[-abe^{-af(X)}\\mathbf{E}[e^{aY}|X] + ab] = 0\\\\\n",
    "\\hat{f}(X) = \\frac{\\log\\left(\\mathbf{E}[e^{aY}|X]\\right)}{a}\n",
    "\\end{equation}\n"
   ]
  },
  {
   "cell_type": "markdown",
   "metadata": {},
   "source": [
    "(c) As $Y|X=x $ is $N(\\beta x,\\sigma^2)$, $\\mathbf{E}[e^{aY}|X] = e^{a\\beta x + \\frac{a^2\\sigma^2}{2}}$. Thus optimal estimator $\\hat{f}(X) = \\beta x + \\frac{a\\sigma^2}{2}$"
   ]
  },
  {
   "cell_type": "code",
   "execution_count": 47,
   "metadata": {},
   "outputs": [
    {
     "name": "stdout",
     "output_type": "stream",
     "text": [
      "Average loss of the conditional expectation: 10.56\n",
      "Average loss of your method: 3.6\n"
     ]
    }
   ],
   "source": [
    "#Set some parameters\n",
    "beta = 0.5\n",
    "b = 2\n",
    "sigma = 2\n",
    "a = 1\n",
    "\n",
    "#Define the loss function, where z = y - yhat\n",
    "def loss(z):\n",
    "    return b*(np.exp(a*z)-a*z-1)\n",
    "\n",
    "#Estimation functions\n",
    "#Estimation using the conditional expectation of Y|X\n",
    "def f_condexp(x):\n",
    "    return beta*x\n",
    "\n",
    "#TODO: Put your function in here.  You can reference a,b,sigma, and it will just pull them from\n",
    "# the outside namespace\n",
    "def f_yours(x):\n",
    "    return beta*x + (a)*(sigma**2)/2\n",
    "\n",
    "#Simulation to see how you do\n",
    "reps = 1000\n",
    "\n",
    "#Just generate the X variables normally.  We don't really care\n",
    "x = norm.rvs(size=reps, loc=0, scale=1)\n",
    "\n",
    "#Generate the Y variables from our normal model\n",
    "y = norm.rvs(size=reps, loc=x*beta, scale=sigma)\n",
    "\n",
    "#Calculate the fitted values for each method\n",
    "yhat_condexp = np.apply_along_axis(f_condexp, 0, x)\n",
    "yhat_yours = np.apply_along_axis(f_yours, 0, x)\n",
    "\n",
    "#Compute the losses\n",
    "condexp_losses = np.apply_along_axis(loss, 0, y-yhat_condexp)\n",
    "your_losses = np.apply_along_axis(loss, 0, y-yhat_yours)\n",
    "\n",
    "print(\"Average loss of the conditional expectation:\",\n",
    "      round(np.mean(condexp_losses),2))\n",
    "\n",
    "print(\"Average loss of your method:\", \n",
    "      round(np.mean(your_losses),2))"
   ]
  },
  {
   "cell_type": "markdown",
   "metadata": {},
   "source": [
    "(d) As shown above, average loss in the simulation for the optimal estimator is 3.6, which is lower than the average loss of the conditional mean. Looking at the plot of the loss function, we can clearly observe it assigns more penalty to positive deviations from the true value than negative deviation. This results into the optimal estimator being pulled towards positive values compared to the conditional mean and thus the optimal estimator is always larger than the conditional mean and on average will minimize the asymmetric loss better than the conditional mean.\n",
    "\n",
    "Also, looking at the form of the optimal estimator, we can observe that \n",
    "$\\hat{f}(X) - \\mathbf{E}[Y|X] = \\frac{a\\sigma^2}{2} > 0$, which shows that the optimal estimator for the provided loss function is systematically more than the conditional mean, which is expected from the rational described above."
   ]
  },
  {
   "cell_type": "markdown",
   "metadata": {},
   "source": [
    "### Question 3"
   ]
  },
  {
   "cell_type": "code",
   "execution_count": 44,
   "metadata": {},
   "outputs": [],
   "source": [
    "def generate_data_points(n,p):\n",
    "    data_points_variable = np.zeros(shape = (n,p))\n",
    "    data_points_output = np.zeros(shape = (n,1))\n",
    "    for i in range(n):\n",
    "        X = np.random.randn(p)\n",
    "        Y = 4* X[0] + np.random.randn(1)\n",
    "        data_points_output[i] = Y\n",
    "        data_points_variable[i,:] = X\n",
    "    return (data_points_variable,data_points_output)"
   ]
  },
  {
   "cell_type": "code",
   "execution_count": 43,
   "metadata": {},
   "outputs": [
    {
     "data": {
      "text/plain": [
       "[<matplotlib.lines.Line2D at 0x18406834d68>]"
      ]
     },
     "execution_count": 43,
     "metadata": {},
     "output_type": "execute_result"
    },
    {
     "data": {
      "image/png": "[encoded data removed]",
      "text/plain": [
       "<Figure size 432x288 with 1 Axes>"
      ]
     },
     "metadata": {},
     "output_type": "display_data"
    }
   ],
   "source": [
    "simulations = 100\n",
    "n = 100\n",
    "m = 100\n",
    "avg_MSE = np.zeros(len(range(2,81)))\n",
    "for p in range(2,81):\n",
    "    MSE = 0\n",
    "    for sim_count in range(simulations):\n",
    "        #Training set\n",
    "        (X_train,Y_train) = generate_data_points(n,p)\n",
    "        model = sm.OLS(Y_train,X_train)\n",
    "        results = model.fit()\n",
    "        (X_test,Y_test) = generate_data_points(m,p)\n",
    "        predictions = results.predict(X_test)\n",
    "        predictions = predictions.reshape((100,1))\n",
    "        MSE = MSE + np.sum((Y_test-predictions)**2)/m\n",
    "    avg_MSE[p-2] = MSE/simulations\n",
    "plt.plot(range(2,81),avg_MSE)"
   ]
  },
  {
   "cell_type": "markdown",
   "metadata": {},
   "source": [
    "Above shows the plot of the average mean squared prediction error vs. $p$, and we can clearly observe that presence of independent variable in the linear regression increases the MSE as number of such useless additional variables increase. This is due to the fact that MSE doesn't capture the effect of number of predictor variable used for prediction. As we get more data, the estimated MSE approaches the expected value, but presence of independent, additional variable increases the variance of variance of the estimated value which increases the MSE of the predictions."
   ]
  },
  {
   "cell_type": "markdown",
   "metadata": {},
   "source": [
    "### Question 4\n",
    "\n",
    "(a)\n",
    "\n",
    "We have $y \\in \\mathbf{R}^n$, $X \\in \\mathbf{R}^{n \\times p}$ and $\\lambda \\geq 0$ be the tuning parameter. Then the ridge regression estimate of the coefficient is, \n",
    "\n",
    "\\begin{equation}\n",
    "\\hat{\\beta}^{\\mathrm{ridge}} = \n",
    "\\mathrm{argmin}_{\\beta \\in \\mathbf{R}^p}\\lVert y - X\\beta \\rVert^2_2 + \n",
    "\\lambda \\lVert \\beta \\rVert^2_2 \n",
    "\\end{equation}\n",
    "\n",
    "Now let $\\tilde{y} = \\left [\\begin{array}{cc} y\\\\  0 \\end{array}\\right] \\in \\mathbf{R}^{n+p}$ and $\\tilde{X} = \\left [\\begin{array}{cc} X\\\\  \\sqrt{\\lambda} I \\end{array}\\right] \\in \\mathbf{R}^{(n+p) \\times p}$, then linear regression coefficients from regressing $\\tilde y$ onto $\\tilde X$ is, \n",
    "\n",
    "\\begin{equation}\n",
    "\\tilde{\\beta} = \\mathrm{argmin}_{\\beta \\in \\mathbf{R}^p}\\lVert \\tilde y - \\tilde X\\beta \\rVert^2_2 = \\mathrm{argmin}_{\\beta \\in \\mathbf{R}^p}\\left \\lVert \\left [\\begin{array}{cc} y\\\\  0 \\end{array}\\right] - \\left [\\begin{array}{cc} X\\\\  \\sqrt{\\lambda} I \\end{array}\\right] \\beta \\right \\rVert^2_2\\\\\n",
    "= \\mathrm{argmin}_{\\beta \\in \\mathbf{R}^p}\\left \\lVert \\left [\\begin{array}{cc} y\\\\  0 \\end{array}\\right] - \\left [\\begin{array}{cc} X \\beta \\\\  \\sqrt{\\lambda} \\beta \\end{array}\\right] \\right \\rVert^2_2 \n",
    "= \\mathrm{argmin}_{\\beta \\in \\mathbf{R}^p}\\left \\lVert \\left [\\begin{array}{cc} y - X \\beta\\\\  -\\sqrt{\\lambda} \\beta \\end{array}\\right]  \\right \\rVert^2_2\\\\\n",
    "= \\mathrm{argmin}_{\\beta \\in \\mathbf{R}^p}\\lVert y - X\\beta \\rVert^2_2 + \n",
    " \\lVert - \\sqrt{\\lambda} \\beta \\rVert^2_2 \\\\\n",
    "= \\mathrm{argmin}_{\\beta \\in \\mathbf{R}^p}\\lVert y - X\\beta \\rVert^2_2 + \n",
    " \\lambda \\lVert \\beta \\rVert^2_2 = \\hat{\\beta}^{\\mathrm{ridge}}\n",
    "\\end{equation}\n",
    "\n",
    "Above derivation shows that the simple linear regression coefficients($\\tilde \\beta$) from regressing $\\tilde y$ onto $\\tilde X$ is same as the ridge regression coefficients($\\hat{\\beta}^{\\mathrm{ridge}}$) from regressing $y$ onto $X$"
   ]
  },
  {
   "cell_type": "markdown",
   "metadata": {},
   "source": [
    "(b)\n",
    "\n",
    "$\\tilde X \\in \\mathbf{R}^{(n+p)\\times p}$. Let $v_i$ be the $(n+p)\\times 1$ vector which has all elements 0 except $(n+i)$-th element and $e_i$ be the $p\\times 1$ vector which has all elements 0 except $i$-th element, $i=1,2,...,p$. Then $v_i = \\left[\\begin{array}{cc}0\\\\e_i \\end{array} \\right]$, where $0 \\in \\mathbf{R}^{n \\times 1}$.\n",
    "\n",
    "Now,\n",
    "\n",
    "\\begin{equation}\n",
    "\\tilde X^Tv_i = \\left[\\begin{array}{cc} X^T  \\sqrt{\\lambda} I \\end{array}\\right] \\left[\\begin{array}{cc}0\\\\e_i \\end{array}\\right] = \\sqrt{\\lambda}e_i\n",
    "\\end{equation}\n",
    "Above equation is true for $i = 1,2,...,p$, and note that all $e_i$'s are linearly independent and span the complete $\\mathbf{R}^p$. Thus, $v_i$, are $p$ vectors for which $\\tilde X^Tv_i$ are linearly independent. Thus $\\mathrm{rank}(\\tilde X) \\geq p = \\mathrm{min}(n+p,p)$, which shows the matrix $\\tilde X$ has full column rank as the column space of $\\tilde X$, which is $\\mathbf{R}^p$, is spanned completely by $v_i$. \n",
    "\n",
    "As shown in part (a), ridge regression estimates are simply the linear regression estimatre with the feature matrix being $\\tilde X$. Thus having a full column rank would mean $\\tilde X^T \\tilde X$ has a unique inverse and thus the ridge regression estimates exist and is always unique."
   ]
  },
  {
   "cell_type": "markdown",
   "metadata": {},
   "source": [
    "(c) Using normal equation for regression between $\\tilde y$ and $\\tilde X$, we get\n",
    "\\begin{equation}\n",
    "\\tilde \\beta = \\hat \\beta ^\\mathrm{ridge} = (\\tilde X^T \\tilde X)^{-1} (\\tilde X^T \\tilde y) =\n",
    "\\left( \\left[\\begin{array}{cc} X^T  \\sqrt{\\lambda} I \\end{array}\\right] \\left[\\begin{array}{cc} X \\\\ \\sqrt{\\lambda} I \\end{array}\\right] \\right)^{-1}\\left(\\left[\\begin{array}{cc} X^T  \\sqrt{\\lambda} I \\end{array}\\right]\\left[\\begin{array}{cc} y \\\\ 0 \\end{array}\\right]\\right)\\\\ \n",
    "= \\left( X^TX + \\lambda I\\right)^{-1}\\left(X^Ty\\right) = \\left(\\left( X^TX + \\lambda I\\right)^{-1}X^T\\right)y\n",
    "\\end{equation}\n",
    "Thus, for any $a \\in \\mathbf{R}^p$, $a^T \\hat \\beta ^\\mathrm{ridge} = \\left(a^T\\left( X^TX + \\lambda I\\right)^{-1}X^T\\right)y = w^Ty$, where $w \\in \\mathbf{R}^n$ is equal to $\\left(a^T\\left( X^TX + \\lambda I\\right)^{-1}X^T\\right)^T$ and can be thought as a weight vector to $y$. This shows that estimate $a^T \\hat \\beta ^\\mathrm{ridge}$ is a linear function of $y$."
   ]
  }
 ],
 "metadata": {
  "kernelspec": {
   "display_name": "Python 3",
   "language": "python",
   "name": "python3"
  },
  "language_info": {
   "codemirror_mode": {
    "name": "ipython",
    "version": 3
   },
   "file_extension": ".py",
   "mimetype": "text/x-python",
   "name": "python",
   "nbconvert_exporter": "python",
   "pygments_lexer": "ipython3",
   "version": "3.6.5"
  }
 },
 "nbformat": 4,
 "nbformat_minor": 2
}
