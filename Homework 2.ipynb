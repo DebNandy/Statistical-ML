{
 "cells": [
  {
   "cell_type": "markdown",
   "metadata": {},
   "source": [
    "# Homework 2"
   ]
  },
  {
   "cell_type": "code",
   "execution_count": 21,
   "metadata": {},
   "outputs": [],
   "source": [
    "import numpy as np\n",
    "import matplotlib.pyplot as plt\n",
    "from scipy.stats import norm\n",
    "import statsmodels.api as sm\n",
    "from sklearn import linear_model \n",
    "import pandas as pd"
   ]
  },
  {
   "cell_type": "markdown",
   "metadata": {},
   "source": [
    "### Question 1\n",
    "\n",
    "**********This is a python based analysis************"
   ]
  },
  {
   "cell_type": "code",
   "execution_count": 2,
   "metadata": {},
   "outputs": [],
   "source": [
    "def generate_data_points(n,p):\n",
    "    data_points_variable = np.zeros(shape = (n,p))\n",
    "    data_points_output = np.zeros(shape = (n,1))\n",
    "    for i in range(n):\n",
    "        X = np.random.randn(p)\n",
    "        Y = X[0] / np.sqrt(2) + np.random.randn(1)/np.sqrt(2)\n",
    "        data_points_output[i] = Y\n",
    "        data_points_variable[i,:] = X\n",
    "    return (data_points_variable,data_points_output)"
   ]
  },
  {
   "cell_type": "code",
   "execution_count": 20,
   "metadata": {},
   "outputs": [
    {
     "data": {
      "text/plain": [
       "<matplotlib.legend.Legend at 0x1fe45d32cc0>"
      ]
     },
     "execution_count": 20,
     "metadata": {},
     "output_type": "execute_result"
    },
    {
     "data": {
      "image/png": "[encoded data removed]",
      "text/plain": [
       "<Figure size 432x288 with 1 Axes>"
      ]
     },
     "metadata": {},
     "output_type": "display_data"
    }
   ],
   "source": [
    "simulations = 100\n",
    "n = 100\n",
    "m = 100\n",
    "avg_OLS_MSE = np.zeros(len(range(2,81)))\n",
    "avg_Lasso_MSE = np.zeros(len(range(2,81)))\n",
    "for p in range(2,81):\n",
    "    OLSMSE = 0\n",
    "    LassoMSE = 0\n",
    "    for sim_count in range(simulations):\n",
    "        #Training set\n",
    "        (X_train,Y_train) = generate_data_points(n,p)\n",
    "        modelOLS = sm.OLS(Y_train,X_train)\n",
    "        OLSresults = modelOLS.fit()\n",
    "        (X_test,Y_test) = generate_data_points(m,p)\n",
    "        OLSpredictions = OLSresults.predict(X_test)\n",
    "        OLSpredictions = OLSpredictions.reshape((m,1))\n",
    "        OLSMSE = OLSMSE + np.sum((Y_test-OLSpredictions)**2)/m\n",
    "        modelLasso = linear_model.Lasso(alpha=np.sqrt(2*np.log(p)/n))\n",
    "        Lassoresults = modelLasso.fit(X_train,Y_train)\n",
    "        Lassopredictions = Lassoresults.predict(X_test)\n",
    "        Lassopredictions = Lassopredictions.reshape((m,1))\n",
    "        LassoMSE = LassoMSE + np.sum((Y_test-Lassopredictions)**2)/m\n",
    "    avg_OLS_MSE[p-2] = OLSMSE/simulations\n",
    "    avg_Lasso_MSE[p-2] = LassoMSE/simulations\n",
    "plt.plot(range(2,81),avg_OLS_MSE)\n",
    "plt.plot(range(2,81),avg_Lasso_MSE)\n",
    "plt.gca().legend((\"Avg OLS MSE\", \"Avg Lasso MSE\"))"
   ]
  },
  {
   "cell_type": "markdown",
   "metadata": {},
   "source": [
    "I can see that dimension size adjusted regularization ensures that the average MSE doesn't explode with more dimensions in the case of lasso regression. OLS regression doesn't have any regularization to account for additional variance added by each addition to the dimensions and Lasso regression clearly improves on that. \n",
    "\n",
    "Given majority of recent modeling around data science and finance uses a large number of features, lasso regression definitely seems to be doing much better than ordinary least squares based regression."
   ]
  }
 ],
 "metadata": {
  "kernelspec": {
   "display_name": "Python 3",
   "language": "python",
   "name": "python3"
  },
  "language_info": {
   "codemirror_mode": {
    "name": "ipython",
    "version": 3
   },
   "file_extension": ".py",
   "mimetype": "text/x-python",
   "name": "python",
   "nbconvert_exporter": "python",
   "pygments_lexer": "ipython3",
   "version": "3.6.8"
  }
 },
 "nbformat": 4,
 "nbformat_minor": 2
}
