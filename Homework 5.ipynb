{
 "cells": [
  {
   "cell_type": "code",
   "execution_count": 3,
   "metadata": {},
   "outputs": [],
   "source": [
    "import numpy as np\n",
    "import pandas as pd\n",
    "import matplotlib.pyplot as plt\n",
    "from tick.hawkes import HawkesExpKern\n",
    "from tick.hawkes import HawkesEM\n",
    "import tick\n",
    "import dill as dill"
   ]
  },
  {
   "cell_type": "markdown",
   "metadata": {},
   "source": [
    "# Question 3\n"
   ]
  },
  {
   "cell_type": "code",
   "execution_count": 6,
   "metadata": {},
   "outputs": [
    {
     "data": {
      "text/html": [
       "<div>\n",
       "<style scoped>\n",
       "    .dataframe tbody tr th:only-of-type {\n",
       "        vertical-align: middle;\n",
       "    }\n",
       "\n",
       "    .dataframe tbody tr th {\n",
       "        vertical-align: top;\n",
       "    }\n",
       "\n",
       "    .dataframe thead th {\n",
       "        text-align: right;\n",
       "    }\n",
       "</style>\n",
       "<table border=\"1\" class=\"dataframe\">\n",
       "  <thead>\n",
       "    <tr style=\"text-align: right;\">\n",
       "      <th></th>\n",
       "      <th>Time</th>\n",
       "      <th>Bid</th>\n",
       "      <th>Ask</th>\n",
       "    </tr>\n",
       "  </thead>\n",
       "  <tbody>\n",
       "    <tr>\n",
       "      <th>0</th>\n",
       "      <td>0.000</td>\n",
       "      <td>1.13747</td>\n",
       "      <td>1.13908</td>\n",
       "    </tr>\n",
       "    <tr>\n",
       "      <th>1</th>\n",
       "      <td>1.159</td>\n",
       "      <td>1.13746</td>\n",
       "      <td>1.13919</td>\n",
       "    </tr>\n",
       "    <tr>\n",
       "      <th>2</th>\n",
       "      <td>2.965</td>\n",
       "      <td>1.13736</td>\n",
       "      <td>1.13855</td>\n",
       "    </tr>\n",
       "    <tr>\n",
       "      <th>3</th>\n",
       "      <td>3.026</td>\n",
       "      <td>1.13712</td>\n",
       "      <td>1.13856</td>\n",
       "    </tr>\n",
       "    <tr>\n",
       "      <th>4</th>\n",
       "      <td>3.081</td>\n",
       "      <td>1.13718</td>\n",
       "      <td>1.13901</td>\n",
       "    </tr>\n",
       "  </tbody>\n",
       "</table>\n",
       "</div>"
      ],
      "text/plain": [
       "    Time      Bid      Ask\n",
       "0  0.000  1.13747  1.13908\n",
       "1  1.159  1.13746  1.13919\n",
       "2  2.965  1.13736  1.13855\n",
       "3  3.026  1.13712  1.13856\n",
       "4  3.081  1.13718  1.13901"
      ]
     },
     "execution_count": 6,
     "metadata": {},
     "output_type": "execute_result"
    }
   ],
   "source": [
    "eurusd = pd.read_csv(\"eurusd.csv\", header = None)\n",
    "eurusd.columns = [\"Time\", \"Bid\", \"Ask\"]\n",
    "eurusd.Time -= eurusd.Time[0] \n",
    "eurusd_array = eurusd.values\n",
    "eurusd.head(5)"
   ]
  },
  {
   "cell_type": "markdown",
   "metadata": {},
   "source": [
    "We can see the Time column is in increasing order so, we are all good."
   ]
  },
  {
   "cell_type": "markdown",
   "metadata": {},
   "source": [
    "### Part (a)"
   ]
  },
  {
   "cell_type": "code",
   "execution_count": 7,
   "metadata": {},
   "outputs": [
    {
     "name": "stdout",
     "output_type": "stream",
     "text": [
      "Baseline is:  [0.13194047]\n",
      "Adjacency is:  [[0.86685402]]\n"
     ]
    }
   ],
   "source": [
    "trade_tick = HawkesExpKern(1)\n",
    "trade_tick.fit([np.asarray(eurusd_array[:,0],order='C')])\n",
    "\n",
    "baseline = trade_tick.baseline\n",
    "adjacency = trade_tick.adjacency\n",
    "\n",
    "print(\"Baseline is: \", baseline)\n",
    "print(\"Adjacency is: \", adjacency)\n"
   ]
  },
  {
   "cell_type": "markdown",
   "metadata": {},
   "source": [
    "Baseline gives the number of trades per unit time or constant rate of trades without incorporating any other effect going forward. Meaning, assuming no influence from other trades, there are approximately 0.1319 trades per unit time.\n",
    "Adjacency tells us how one trade order occurance can affect/influence/stimulate the market and results into more trade events. We expect the effect of one trade to decay out with time. For this data, we can see 0.8668 to be the multiplier in the exponential decay of the influence.\n",
    "\n",
    "Thus expected rate of trades per second would be the baseline which is 0.1319 and adjacency factor is the expected number of trades stimulated by each trade which is 0.8668.\n"
   ]
  },
  {
   "cell_type": "markdown",
   "metadata": {},
   "source": [
    "### Part (b)"
   ]
  },
  {
   "cell_type": "code",
   "execution_count": 8,
   "metadata": {},
   "outputs": [],
   "source": [
    "decays = np.array(range(1,30,1)).astype(float)\n",
    "adjacency = np.zeros(decays.shape)\n",
    "baseline = np.zeros(decays.shape)\n",
    "scores = np.zeros(decays.shape)\n",
    "\n",
    "for i in range(len(decays)):\n",
    "    decay = decays[i]\n",
    "    trade_tick = HawkesExpKern(decay)\n",
    "    trade_tick.fit([np.asarray(np.sort(eurusd_array[:,0]),order='C')])\n",
    "\n",
    "    baseline[i] = trade_tick.baseline\n",
    "    adjacency[i] = trade_tick.adjacency\n",
    "    scores[i] = HawkesExpKern.score(trade_tick)"
   ]
  },
  {
   "cell_type": "code",
   "execution_count": 9,
   "metadata": {},
   "outputs": [
    {
     "data": {
      "image/png": "[encoded data removed]",
      "text/plain": [
       "<Figure size 432x288 with 1 Axes>"
      ]
     },
     "metadata": {},
     "output_type": "display_data"
    }
   ],
   "source": [
    "plt.plot(decays, scores)\n",
    "plt.xlabel(\"Reciprocal of Decay Time\")\n",
    "plt.ylabel(\"Log-likelihood\")\n",
    "plt.title(\"Decay vs Log-likelihood\")\n",
    "plt.show()"
   ]
  },
  {
   "cell_type": "markdown",
   "metadata": {},
   "source": [
    "We can see that the log-likelihood reaches a maximum at around a decay value of 8 and then goes down. This implies that there is a certain decay parameter where the dataset has maximum log-likelihood which means that the average decay time of the self-excitation event is 1/8 or around 0.125 seconds."
   ]
  },
  {
   "cell_type": "markdown",
   "metadata": {},
   "source": [
    "### Part (c)"
   ]
  },
  {
   "cell_type": "code",
   "execution_count": 34,
   "metadata": {},
   "outputs": [
    {
     "name": "stdout",
     "output_type": "stream",
     "text": [
      "[0.32363026]\n"
     ]
    }
   ],
   "source": [
    "trade_tick_kernel = HawkesEM(kernel_support = 1)\n",
    "trade_tick_kernel.fit([np.ascontiguousarray(np.sort(eurusd_array[:,0]))])\n",
    "\n",
    "baseline_kernel = trade_tick_kernel.baseline\n",
    "print(baseline_kernel)"
   ]
  },
  {
   "cell_type": "code",
   "execution_count": 30,
   "metadata": {},
   "outputs": [
    {
     "data": {
      "image/png": "[encoded data removed]",
      "text/plain": [
       "<Figure size 432x288 with 1 Axes>"
      ]
     },
     "metadata": {},
     "output_type": "display_data"
    }
   ],
   "source": [
    "tick.plot.plot_hawkes_kernels(trade_tick_kernel)\n",
    "plt.show()"
   ]
  },
  {
   "cell_type": "markdown",
   "metadata": {},
   "source": [
    "Above can be interpreted as a probability density of the trades influenced by prior trade and the time for that next trade. To answer the question as to how quickly does one trade gets caused by prior trade, we need to calculate the expected value of the above density. We can make a guess by looking at the graph about the mean of the distribution, but for more precise estimate we should calculate the probability density weighted average of the time. My guess from the plot would be between 0.1-0.2 seconds. \n",
    "\n",
    "Note that this is also inline with the decay parameter corresponding to max log-likelihood in part (b). Thus the kernel based Hawkes model captures the most likely decay time based on the data as we can see that the mean decay time matches between this part and part (b)\n",
    "\n",
    "Also the baseline value is 0.3236 which means 0.3236 trades per seconds are generated from background which means approximately one trade is generated per second from background whereas trades stimulated by events occur with an average time of 0.15 seconds. Thus our model thinks most of the trades are stimulated by other events."
   ]
  },
  {
   "cell_type": "markdown",
   "metadata": {},
   "source": [
    "### Part (d)"
   ]
  },
  {
   "cell_type": "code",
   "execution_count": 45,
   "metadata": {},
   "outputs": [],
   "source": [
    "eurusd['MidPrice'] = (eurusd.Bid + eurusd.Ask)/2\n",
    "eurusd['PriceChange'] = np.append(np.diff(eurusd.iloc[:,3])[::-1], None)[::-1]\n",
    "eurusd_increase = eurusd[eurusd['PriceChange'] > 0]\n",
    "eurusd_decrease = eurusd[eurusd['PriceChange'] < 0]"
   ]
  },
  {
   "cell_type": "code",
   "execution_count": 47,
   "metadata": {},
   "outputs": [
    {
     "data": {
      "text/plain": [
       "<tick.hawkes.inference.hawkes_expkern_fixeddecay.HawkesExpKern at 0x19b014f6390>"
      ]
     },
     "execution_count": 47,
     "metadata": {},
     "output_type": "execute_result"
    }
   ],
   "source": [
    "increase_time_ticks = np.ascontiguousarray(np.sort(eurusd_increase.values[:,0])).astype(float)\n",
    "decrease_time_ticks = np.ascontiguousarray(np.sort(eurusd_decrease.values[:,0])).astype(float)\n",
    "\n",
    "mutual_fit = HawkesExpKern(decays=10.0)\n",
    "mutual_fit.fit([increase_time_ticks, decrease_time_ticks])"
   ]
  },
  {
   "cell_type": "code",
   "execution_count": 50,
   "metadata": {},
   "outputs": [
    {
     "name": "stdout",
     "output_type": "stream",
     "text": [
      "Baseline\n",
      "[0.20373702 0.20425652]\n",
      "Adjacency\n",
      "[[0.4242209  0.1647993 ]\n",
      " [0.16676291 0.42228355]]\n"
     ]
    }
   ],
   "source": [
    "print(\"Baseline\")\n",
    "print(mutual_fit.baseline)\n",
    "\n",
    "print(\"Adjacency\")\n",
    "print(mutual_fit.adjacency)"
   ]
  },
  {
   "cell_type": "markdown",
   "metadata": {},
   "source": [
    "We can observe that both increase and decrease events stimulate other increase, decrease events. By looking at the adjacency numbers, we can see that an increase event stimulates another subsequent increase event with higher probability/rate compared to stimulating a subsequent decrease event. Thus after a price increase event, another increase is more likely than a decrease.\n",
    "\n",
    "And similarly, a decrease event stimulates amother decrease event with larger probability than a subsequent increase event. Also, after a price decrease event, another decrease is more likely than an increase.\n",
    "\n",
    "As we can see, both increase and decrese events stimulates other increase and decrease events. However, an increase event stimulates increase event with higher intensity compare to the decrease, and vice versa.\n",
    "\n",
    "A very fundament assumption in logistic regression models is that the observations are independent and hence doesn't affect each other, whereas we are trying to model the influence of one event on the next occurrence. \n",
    "\n",
    "If we try learning a logistic regression model with a prior value of the event, then it results into the probability of an increase/decrease and the coefficients can be compared to the adjacency values. One more difference is the fact that logistic regression won't provide any distribution of the time for next event but only a point probability. The Hawkes model though, will provide a distribution of the probability of the event which allows us to think about expected number of events within a certain time interval and also combining effect of multiple events on an overlapping time interval.\n",
    "\n",
    "If two successive events happen, the calculated adjacency values will remain same and if the adjacency is large enough compared to the decay time, two successive event would combine the influence and will result into increase in predicted rate of future events."
   ]
  },
  {
   "cell_type": "markdown",
   "metadata": {},
   "source": [
    "# Question 4\n",
    "\n",
    "Thank You!"
   ]
  }
 ],
 "metadata": {
  "kernelspec": {
   "display_name": "Python 3",
   "language": "python",
   "name": "python3"
  },
  "language_info": {
   "codemirror_mode": {
    "name": "ipython",
    "version": 3
   },
   "file_extension": ".py",
   "mimetype": "text/x-python",
   "name": "python",
   "nbconvert_exporter": "python",
   "pygments_lexer": "ipython3",
   "version": "3.6.5"
  }
 },
 "nbformat": 4,
 "nbformat_minor": 2
}
