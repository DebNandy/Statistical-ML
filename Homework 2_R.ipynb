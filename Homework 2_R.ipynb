{
 "cells": [
  {
   "cell_type": "markdown",
   "metadata": {},
   "source": [
    "### Question 2\n",
    "\n",
    "**********This is an R based analysis**************"
   ]
  },
  {
   "cell_type": "markdown",
   "metadata": {},
   "source": [
    "#### Part(a)"
   ]
  },
  {
   "cell_type": "code",
   "execution_count": 1,
   "metadata": {},
   "outputs": [
    {
     "name": "stderr",
     "output_type": "stream",
     "text": [
      "Loading required package: Matrix\n",
      "Loading required package: foreach\n",
      "Loaded glmnet 2.0-16\n",
      "\n"
     ]
    },
    {
     "data": {
      "image/png": "[encoded data removed]",
      "text/plain": [
       "plot without title"
      ]
     },
     "metadata": {},
     "output_type": "display_data"
    }
   ],
   "source": [
    "options(repr.plot.width=4.5, repr.plot.height=3.5)\n",
    "# Part (a)\n",
    "trends_train = read.csv(\"trends_train.csv\")\n",
    "#plot(trends_train$Week, trends_train$logret,type = '')\n",
    "X_train = as.matrix(trends_train[,c(-98,-1)]) # Remove week and the output column\n",
    "y_train = as.matrix(trends_train$logret)      # Only the output column\n",
    "library(glmnet)\n",
    "fit_lasso = glmnet(X_train,y_train,family='gaussian',alpha=1)\n",
    "plot(fit_lasso,xvar='lambda')"
   ]
  },
  {
   "cell_type": "markdown",
   "metadata": {},
   "source": [
    "#### Part (b)"
   ]
  },
  {
   "cell_type": "code",
   "execution_count": 2,
   "metadata": {},
   "outputs": [
    {
     "data": {
      "text/html": [
       "0.0029916544882271"
      ],
      "text/latex": [
       "0.0029916544882271"
      ],
      "text/markdown": [
       "0.0029916544882271"
      ],
      "text/plain": [
       "[1] 0.002991654"
      ]
     },
     "metadata": {},
     "output_type": "display_data"
    },
    {
     "data": {
      "text/html": [
       "0.00434037842533214"
      ],
      "text/latex": [
       "0.00434037842533214"
      ],
      "text/markdown": [
       "0.00434037842533214"
      ],
      "text/plain": [
       "[1] 0.004340378"
      ]
     },
     "metadata": {},
     "output_type": "display_data"
    },
    {
     "data": {
      "image/png": "[encoded data removed]",
      "text/plain": [
       "plot without title"
      ]
     },
     "metadata": {},
     "output_type": "display_data"
    }
   ],
   "source": [
    "cv_lasso = cv.glmnet(X_train,y_train,family='gaussian',alpha=1)\n",
    "#names(cv_lasso)\n",
    "#Plot the average cv error\n",
    "plot(cv_lasso)\n",
    "abline(v=log(cv_lasso$lambda.min),lty=3,lwd=2)\n",
    "abline(v=log(cv_lasso$lambda.1se),lty=3,lwd=2)\n",
    "cv_lasso$lambda.min\n",
    "cv_lasso$lambda.1se"
   ]
  },
  {
   "cell_type": "markdown",
   "metadata": {},
   "source": [
    "#### Part (c)\n",
    "Below shows the non-zero coefficients from the lasso regression under two selection methods. For the case where the $\\lambda$ minimizing the CV-MSE is chosen, there are only 4 variables (not counting the intercept) with non-zero co-efficients among 96 total variables.\n",
    "\n",
    "The case where $\\lambda$ corresponding to 1se is chosen, the only non-zero parameter is the intercept. \n",
    "\n",
    "This shows that the trends data doesn't indicate any strong forecasting signal based on the results obtained from lasso regression."
   ]
  },
  {
   "cell_type": "code",
   "execution_count": 3,
   "metadata": {
    "scrolled": true
   },
   "outputs": [
    {
     "name": "stderr",
     "output_type": "stream",
     "text": [
      "<sparse>[ <logic> ] : .M.sub.i.logical() maybe inefficient\n"
     ]
    },
    {
     "name": "stdout",
     "output_type": "stream",
     "text": [
      "[1]  1.611711e-03 -4.985075e-05 -6.544947e-04 -4.422046e-05 -1.623596e-05\n"
     ]
    },
    {
     "name": "stderr",
     "output_type": "stream",
     "text": [
      "<sparse>[ <logic> ] : .M.sub.i.logical() maybe inefficient\n"
     ]
    },
    {
     "name": "stdout",
     "output_type": "stream",
     "text": [
      "[1] 0.001572434\n"
     ]
    }
   ],
   "source": [
    "#Selection Rule : Minimization\n",
    "beta_lasso = coef(fit_lasso, s=cv_lasso$lambda.min)\n",
    "beta_lasso_nz = beta_lasso[beta_lasso!=0]\n",
    "#names(beta_lasso_nz) = names(beta_lasso)[beta_lasso!=0]\n",
    "print(beta_lasso_nz)\n",
    "\n",
    "#Selection Rule : 1se\n",
    "beta_lasso = coef(fit_lasso, s=cv_lasso$lambda.1se)\n",
    "beta_lasso_nz = beta_lasso[beta_lasso!=0]\n",
    "#names(beta_lasso_nz) = names(beta_lasso)[beta_lasso!=0]\n",
    "print(beta_lasso_nz)"
   ]
  },
  {
   "cell_type": "markdown",
   "metadata": {},
   "source": [
    "#### Part (d)\n",
    "From below plot between the predicted values and true values, I see very little amount of accurate prediction made by the model with the given data. I can see that the scatter plot is almost flattened and the range of predicted values is between [-.01, 0.01 ] whereas the true values range between [-0.07, 0.04]. So overall I would say the prediction is of very poor quality although there is some upward trend among the points in the plot but the accuracy is still very low."
   ]
  },
  {
   "cell_type": "code",
   "execution_count": 4,
   "metadata": {},
   "outputs": [
    {
     "data": {
      "image/png": "[encoded data removed]",
      "text/plain": [
       "plot without title"
      ]
     },
     "metadata": {},
     "output_type": "display_data"
    }
   ],
   "source": [
    "predictions_train = predict(fit_lasso,newx=X_train,s=cv_lasso$lambda.min)\n",
    "#mean(()-y_test)^2)\n",
    "plot(y_train,predictions_train,)"
   ]
  },
  {
   "cell_type": "markdown",
   "metadata": {},
   "source": [
    "#### Part (e)\n",
    "Below runs the trading strategy based on the prediction results on training set and compares with the buy and hold strategy. We can see that the return over the horizon period is 2.08\\% based on the prediction model compared to 1.33\\% with the buy and hold strategy"
   ]
  },
  {
   "cell_type": "code",
   "execution_count": 5,
   "metadata": {},
   "outputs": [
    {
     "name": "stdout",
     "output_type": "stream",
     "text": [
      "[1] \"Trading Horizon (in weeks)\"\n",
      "[1] 180\n",
      "[1] \"Log eturn for the trading strategy using lambda-min is\"\n",
      "[1] 0.7621045\n",
      "[1] \"Log return for buy and hold trading strategy is\"\n",
      "[1] 0.2830381\n"
     ]
    }
   ],
   "source": [
    "realized_logret_train = sign(predictions_train)*y_train\n",
    "total_logret_train = sum(realized_logret_train)\n",
    "print(\"Trading Horizon (in weeks)\")\n",
    "print(nrow(trends_train))\n",
    "print(\"Log eturn for the trading strategy using lambda-min is\")\n",
    "print(total_logret_train)\n",
    "print(\"Log return for buy and hold trading strategy is\")\n",
    "print(sum(y_train))"
   ]
  },
  {
   "cell_type": "markdown",
   "metadata": {},
   "source": [
    "#### Part (f)\n",
    "I apply the lasso regression based prediction with $\\lambda_{min}$ to the test data and below shows the return of the trading strategy over the trading horizon. I also calculate the return with the buy and hold strategy on the test data. We can observe that the prediction strategy does poorly compared to the buy and hold strategy and thus indicates the trends data along with the associated model has very poor forecasting ability."
   ]
  },
  {
   "cell_type": "code",
   "execution_count": 8,
   "metadata": {},
   "outputs": [
    {
     "name": "stdout",
     "output_type": "stream",
     "text": [
      "[1] \"Trading Horizon (in weeks)\"\n",
      "[1] 79\n",
      "[1] \"Log return for the trading strategy using lambda-min on test set is\"\n",
      "[1] 0.1439524\n",
      "[1] \"Log return for buy and hold trading strategy on test set is\"\n",
      "[1] 0.3461536\n"
     ]
    }
   ],
   "source": [
    "trends_test = read.csv(\"trends_test.csv\")\n",
    "X_test = as.matrix(trends_test[,c(-98,-1)]) # Remove week and the output column\n",
    "y_test = as.matrix(trends_test$logret)      # Only the output column\n",
    "\n",
    "predictions_test = predict(fit_lasso,newx=X_test,s=cv_lasso$lambda.min)\n",
    "#plot(y_train,predictions_train,)\n",
    "realized_logret_test = sign(predictions_test)*y_test\n",
    "total_logret_test = sum(realized_logret_test)\n",
    "print(\"Trading Horizon (in weeks)\")\n",
    "print(nrow(trends_test))\n",
    "print(\"Log return for the trading strategy using lambda-min on test set is\")\n",
    "print(total_logret_test)\n",
    "print(\"Log return for buy and hold trading strategy on test set is\")\n",
    "print(sum(y_test))"
   ]
  },
  {
   "cell_type": "markdown",
   "metadata": {},
   "source": [
    "The $\\lambda_{1s.e.}$ model only has one intercept term, thus it always returns the same value. Trading strategy based on a constant value prediction is equivalent to the buy and hold strategy. As the buy-and hold strategy outperforms the $\\lambda_{min}$ based prediction strategy, it seems the $\\lambda_{1s.e.}$ based would provide a better result."
   ]
  }
 ],
 "metadata": {
  "kernelspec": {
   "display_name": "R",
   "language": "R",
   "name": "ir"
  },
  "language_info": {
   "codemirror_mode": "r",
   "file_extension": ".r",
   "mimetype": "text/x-r-source",
   "name": "R",
   "pygments_lexer": "r",
   "version": "3.5.1"
  }
 },
 "nbformat": 4,
 "nbformat_minor": 2
}
